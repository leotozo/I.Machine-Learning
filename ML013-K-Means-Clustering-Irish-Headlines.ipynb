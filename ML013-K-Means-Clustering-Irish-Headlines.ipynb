{
 "cells": [
  {
   "cell_type": "markdown",
   "metadata": {},
   "source": [
    "# K-means Clustering of headlines"
   ]
  },
  {
   "cell_type": "markdown",
   "metadata": {},
   "source": [
    "By [Leonardo Tozo](https://www.linkedin.com/in/leotozo/)"
   ]
  },
  {
   "cell_type": "markdown",
   "metadata": {},
   "source": [
    "****************************\n",
    "Hello,\n",
    "<br>This is part of my personal portfolio, my intention with this series of notebooks is to keep practicing and improving my A.I & Machine Learning skills.\n",
    " \n",
    "*Leonardo Tozo Bisinoto*\n",
    "<br>*MBA in Artificial Intelligence & Machine Learning*\n",
    "<br>*LinkedIn: https://www.linkedin.com/in/leotozo/*\n",
    "<br>*Github: https://github.com/leotozo*\n",
    "**************************** "
   ]
  },
  {
   "cell_type": "code",
   "execution_count": 8,
   "metadata": {},
   "outputs": [],
   "source": [
    "import numpy as np \n",
    "import pandas as pd \n",
    "import matplotlib.pyplot as plt\n",
    "import seaborn as sns\n",
    "from sklearn.feature_extraction import text\n",
    "from sklearn.feature_extraction.text import TfidfVectorizer\n",
    "from sklearn.cluster import KMeans\n",
    "from nltk.tokenize import RegexpTokenizer\n",
    "from nltk.stem.snowball import SnowballStemmer\n",
    "%matplotlib inline"
   ]
  },
  {
   "cell_type": "code",
   "execution_count": 9,
   "metadata": {},
   "outputs": [
    {
     "data": {
      "text/html": [
       "<div>\n",
       "<style scoped>\n",
       "    .dataframe tbody tr th:only-of-type {\n",
       "        vertical-align: middle;\n",
       "    }\n",
       "\n",
       "    .dataframe tbody tr th {\n",
       "        vertical-align: top;\n",
       "    }\n",
       "\n",
       "    .dataframe thead th {\n",
       "        text-align: right;\n",
       "    }\n",
       "</style>\n",
       "<table border=\"1\" class=\"dataframe\">\n",
       "  <thead>\n",
       "    <tr style=\"text-align: right;\">\n",
       "      <th></th>\n",
       "      <th>headline_text</th>\n",
       "    </tr>\n",
       "  </thead>\n",
       "  <tbody>\n",
       "    <tr>\n",
       "      <th>0</th>\n",
       "      <td>Smurfit's share price in retreat despite recor...</td>\n",
       "    </tr>\n",
       "    <tr>\n",
       "      <th>1</th>\n",
       "      <td>Jamont plans £5m investment to update plant</td>\n",
       "    </tr>\n",
       "    <tr>\n",
       "      <th>2</th>\n",
       "      <td>Management is blamed for most company failures</td>\n",
       "    </tr>\n",
       "    <tr>\n",
       "      <th>3</th>\n",
       "      <td>Forte expected to announce a special dividend ...</td>\n",
       "    </tr>\n",
       "    <tr>\n",
       "      <th>4</th>\n",
       "      <td>Accountancy firm adopts name change</td>\n",
       "    </tr>\n",
       "  </tbody>\n",
       "</table>\n",
       "</div>"
      ],
      "text/plain": [
       "                                       headline_text\n",
       "0  Smurfit's share price in retreat despite recor...\n",
       "1        Jamont plans £5m investment to update plant\n",
       "2     Management is blamed for most company failures\n",
       "3  Forte expected to announce a special dividend ...\n",
       "4                Accountancy firm adopts name change"
      ]
     },
     "execution_count": 9,
     "metadata": {},
     "output_type": "execute_result"
    }
   ],
   "source": [
    "data = pd.read_csv(\"irishtimes-date-text.v1.csv\",error_bad_lines=False,usecols =[\"headline_text\"],encoding='utf-8')\n",
    "data.head()"
   ]
  },
  {
   "cell_type": "code",
   "execution_count": 10,
   "metadata": {},
   "outputs": [
    {
     "name": "stdout",
     "output_type": "stream",
     "text": [
      "<class 'pandas.core.frame.DataFrame'>\n",
      "RangeIndex: 1422230 entries, 0 to 1422229\n",
      "Data columns (total 1 columns):\n",
      "headline_text    1422222 non-null object\n",
      "dtypes: object(1)\n",
      "memory usage: 10.9+ MB\n"
     ]
    }
   ],
   "source": [
    "data.info()"
   ]
  },
  {
   "cell_type": "markdown",
   "metadata": {},
   "source": [
    "# Deleting dupliate headlines(if any)"
   ]
  },
  {
   "cell_type": "code",
   "execution_count": 11,
   "metadata": {},
   "outputs": [
    {
     "data": {
      "text/html": [
       "<div>\n",
       "<style scoped>\n",
       "    .dataframe tbody tr th:only-of-type {\n",
       "        vertical-align: middle;\n",
       "    }\n",
       "\n",
       "    .dataframe tbody tr th {\n",
       "        vertical-align: top;\n",
       "    }\n",
       "\n",
       "    .dataframe thead th {\n",
       "        text-align: right;\n",
       "    }\n",
       "</style>\n",
       "<table border=\"1\" class=\"dataframe\">\n",
       "  <thead>\n",
       "    <tr style=\"text-align: right;\">\n",
       "      <th></th>\n",
       "      <th>headline_text</th>\n",
       "    </tr>\n",
       "  </thead>\n",
       "  <tbody>\n",
       "    <tr>\n",
       "      <th>611218</th>\n",
       "      <td>$22.4m record for Rothko canvas</td>\n",
       "    </tr>\n",
       "    <tr>\n",
       "      <th>603933</th>\n",
       "      <td>$22.4m record for Rothko canvas</td>\n",
       "    </tr>\n",
       "    <tr>\n",
       "      <th>901876</th>\n",
       "      <td>$3.7m for rare US coin featured in 'Hawaii Fiv...</td>\n",
       "    </tr>\n",
       "    <tr>\n",
       "      <th>901791</th>\n",
       "      <td>$3.7m for rare US coin featured in 'Hawaii Fiv...</td>\n",
       "    </tr>\n",
       "    <tr>\n",
       "      <th>908861</th>\n",
       "      <td>$8bn rail project unveiled for seven states</td>\n",
       "    </tr>\n",
       "    <tr>\n",
       "      <th>908942</th>\n",
       "      <td>$8bn rail project unveiled for seven states</td>\n",
       "    </tr>\n",
       "    <tr>\n",
       "      <th>245624</th>\n",
       "      <td>'A Clockwork Orange'</td>\n",
       "    </tr>\n",
       "    <tr>\n",
       "      <th>245393</th>\n",
       "      <td>'A Clockwork Orange'</td>\n",
       "    </tr>\n",
       "  </tbody>\n",
       "</table>\n",
       "</div>"
      ],
      "text/plain": [
       "                                            headline_text\n",
       "611218                    $22.4m record for Rothko canvas\n",
       "603933                    $22.4m record for Rothko canvas\n",
       "901876  $3.7m for rare US coin featured in 'Hawaii Fiv...\n",
       "901791  $3.7m for rare US coin featured in 'Hawaii Fiv...\n",
       "908861        $8bn rail project unveiled for seven states\n",
       "908942        $8bn rail project unveiled for seven states\n",
       "245624                               'A Clockwork Orange'\n",
       "245393                               'A Clockwork Orange'"
      ]
     },
     "execution_count": 11,
     "metadata": {},
     "output_type": "execute_result"
    }
   ],
   "source": [
    "data[data['headline_text'].duplicated(keep=False)].sort_values('headline_text').head(8)"
   ]
  },
  {
   "cell_type": "code",
   "execution_count": 12,
   "metadata": {},
   "outputs": [],
   "source": [
    "data = data.drop_duplicates('headline_text')"
   ]
  },
  {
   "cell_type": "markdown",
   "metadata": {},
   "source": [
    "# NLP"
   ]
  },
  {
   "cell_type": "code",
   "execution_count": 14,
   "metadata": {},
   "outputs": [],
   "source": [
    "punc = ['.', ',', '\"', \"'\", '?', '!', ':', ';', '(', ')', '[', ']', '{', '}',\"%\"]\n",
    "stop_words = text.ENGLISH_STOP_WORDS.union(punc)\n",
    "desc = data['headline_text'].values.astype('U')\n",
    "vectorizer = TfidfVectorizer(stop_words = stop_words)\n",
    "X = vectorizer.fit_transform(desc)"
   ]
  },
  {
   "cell_type": "code",
   "execution_count": 15,
   "metadata": {},
   "outputs": [
    {
     "name": "stdout",
     "output_type": "stream",
     "text": [
      "105760\n",
      "['aguna', 'agung', 'aguri', 'agus', 'agusta', 'agustín', 'agut', 'agyness', 'agóid', 'agüero', 'ah', 'ahab', 'ahamed', 'ahane', 'aharon', 'ahascragh', 'ahcs', 'ahdaf', 'ahead', 'aheand', 'ahearn', 'ahearne', 'ahem', 'aherlow', 'ahern', 'aherne', 'ahernism', 'aherns', 'aherton', 'ahh', 'ahk', 'ahki', 'ahl', 'ahlan', 'ahlberg', 'ahli', 'ahlstrom', 'ahmad', 'ahmadinejad', 'ahmadiyya', 'ahmed', 'ahmet', 'ahn', 'ahokas', 'ahold', 'ahonoora', 'ahoy', 'ahp', 'ahr', 'ahrendts', 'ahtisaari', 'ahtissari', 'ahunting', 'ai', 'aia', 'aib', 'aiba', 'aibha', 'aibheil', 'aibhleise', 'aibhléis', 'aibim', 'aibitír', 'aibo', 'aibof', 'aibp', 'aicraft', 'aid', 'aida', 'aidan', 'aide', 'aided', 'aideed', 'aideen', 'aiden', 'aideninho', 'aider', 'aiders', 'aides', 'aidhe', 'aidid', 'aidine', 'aiding', 'aidlink', 'aids', 'aidsday', 'aidy', 'aifca', 'aife', 'aifreann', 'aifric', 'aiféala', 'aig', 'aige', 'aighneachtaí', 'aighneas', 'aighnis', 'aigle', 'aigles', 'aigne']\n"
     ]
    }
   ],
   "source": [
    "word_features = vectorizer.get_feature_names()\n",
    "print(len(word_features))\n",
    "print(word_features[5000:5100])"
   ]
  },
  {
   "cell_type": "markdown",
   "metadata": {},
   "source": [
    "# Stemming"
   ]
  },
  {
   "cell_type": "markdown",
   "metadata": {},
   "source": [
    "# Tokenizing"
   ]
  },
  {
   "cell_type": "code",
   "execution_count": 16,
   "metadata": {},
   "outputs": [],
   "source": [
    "stemmer = SnowballStemmer('english')\n",
    "tokenizer = RegexpTokenizer(r'[a-zA-Z\\']+')\n",
    "\n",
    "def tokenize(text):\n",
    "    return [stemmer.stem(word) for word in tokenizer.tokenize(text.lower())]"
   ]
  },
  {
   "cell_type": "markdown",
   "metadata": {},
   "source": [
    "# Vectorization with stop words(words irrelevant to the model), stemming and tokenizing"
   ]
  },
  {
   "cell_type": "code",
   "execution_count": 17,
   "metadata": {},
   "outputs": [
    {
     "name": "stderr",
     "output_type": "stream",
     "text": [
      "C:\\Users\\LEONARDOTOZOBISINOTO\\Anaconda3\\lib\\site-packages\\sklearn\\feature_extraction\\text.py:301: UserWarning: Your stop_words may be inconsistent with your preprocessing. Tokenizing the stop words generated tokens ['abov', 'afterward', 'alon', 'alreadi', 'alway', 'ani', 'anoth', 'anyon', 'anyth', 'anywher', 'becam', 'becaus', 'becom', 'befor', 'besid', 'cri', 'describ', 'dure', 'els', 'elsewher', 'empti', 'everi', 'everyon', 'everyth', 'everywher', 'fifti', 'forti', 'henc', 'hereaft', 'herebi', 'howev', 'hundr', 'inde', 'mani', 'meanwhil', 'moreov', 'nobodi', 'noon', 'noth', 'nowher', 'onc', 'onli', 'otherwis', 'ourselv', 'perhap', 'pleas', 'sever', 'sinc', 'sincer', 'sixti', 'someon', 'someth', 'sometim', 'somewher', 'themselv', 'thenc', 'thereaft', 'therebi', 'therefor', 'togeth', 'twelv', 'twenti', 'veri', 'whatev', 'whenc', 'whenev', 'wherea', 'whereaft', 'wherebi', 'wherev', 'whi', 'yourselv'] not in stop_words.\n",
      "  'stop_words.' % sorted(inconsistent))\n"
     ]
    },
    {
     "name": "stdout",
     "output_type": "stream",
     "text": [
      "73263\n",
      "[\"''\", \"'a\", \"'b\", \"'c\", \"'d\", \"'e\", \"'f\", \"'g\", \"'i\", \"'it\", \"'j\", \"'k\", \"'l\", \"'m\", \"'mi\", \"'n\", \"'o\", \"'p\", \"'q\", \"'r\", \"'refuge\", \"'s\", \"'t\", \"'u\", \"'w\", \"'x\", \"'y\", \"'z\", \"a'\", \"a'chang\", \"a'matt\", \"a'triumph\", \"a'wand\", 'aa', 'aaa', 'aaaagh', 'aaaggghhh', 'aaah', 'aaahh', 'aaaw', 'aach', 'aachen', 'aah', 'aahhh', 'aai', 'aaiu', 'aaland', 'aalborg', 'aalto', 'aanholt']\n"
     ]
    }
   ],
   "source": [
    "vectorizer2 = TfidfVectorizer(stop_words = stop_words, tokenizer = tokenize)\n",
    "X2 = vectorizer2.fit_transform(desc)\n",
    "word_features2 = vectorizer2.get_feature_names()\n",
    "print(len(word_features2))\n",
    "print(word_features2[:50])"
   ]
  },
  {
   "cell_type": "code",
   "execution_count": 18,
   "metadata": {},
   "outputs": [
    {
     "name": "stderr",
     "output_type": "stream",
     "text": [
      "C:\\Users\\LEONARDOTOZOBISINOTO\\Anaconda3\\lib\\site-packages\\sklearn\\feature_extraction\\text.py:301: UserWarning: Your stop_words may be inconsistent with your preprocessing. Tokenizing the stop words generated tokens ['abov', 'afterward', 'alon', 'alreadi', 'alway', 'ani', 'anoth', 'anyon', 'anyth', 'anywher', 'becam', 'becaus', 'becom', 'befor', 'besid', 'cri', 'describ', 'dure', 'els', 'elsewher', 'empti', 'everi', 'everyon', 'everyth', 'everywher', 'fifti', 'forti', 'henc', 'hereaft', 'herebi', 'howev', 'hundr', 'inde', 'mani', 'meanwhil', 'moreov', 'nobodi', 'noon', 'noth', 'nowher', 'onc', 'onli', 'otherwis', 'ourselv', 'perhap', 'pleas', 'sever', 'sinc', 'sincer', 'sixti', 'someon', 'someth', 'sometim', 'somewher', 'themselv', 'thenc', 'thereaft', 'therebi', 'therefor', 'togeth', 'twelv', 'twenti', 'veri', 'whatev', 'whenc', 'whenev', 'wherea', 'whereaft', 'wherebi', 'wherev', 'whi', 'yourselv'] not in stop_words.\n",
      "  'stop_words.' % sorted(inconsistent))\n"
     ]
    }
   ],
   "source": [
    "vectorizer3 = TfidfVectorizer(stop_words = stop_words, tokenizer = tokenize, max_features = 1000)\n",
    "X3 = vectorizer3.fit_transform(desc)\n",
    "words = vectorizer3.get_feature_names()"
   ]
  },
  {
   "cell_type": "markdown",
   "metadata": {},
   "source": [
    "# K-means clustering"
   ]
  },
  {
   "cell_type": "markdown",
   "metadata": {},
   "source": [
    "# Elbow method to select number of clusters"
   ]
  },
  {
   "cell_type": "code",
   "execution_count": 19,
   "metadata": {},
   "outputs": [
    {
     "data": {
      "image/png": "[encoded data removed]",
      "text/plain": [
       "<Figure size 432x288 with 1 Axes>"
      ]
     },
     "metadata": {
      "needs_background": "light"
     },
     "output_type": "display_data"
    }
   ],
   "source": [
    "from sklearn.cluster import KMeans\n",
    "wcss = []\n",
    "for i in range(1,11):\n",
    "    kmeans = KMeans(n_clusters=i,init='k-means++',max_iter=300,n_init=10,random_state=0)\n",
    "    kmeans.fit(X3)\n",
    "    wcss.append(kmeans.inertia_)\n",
    "plt.plot(range(1,11),wcss)\n",
    "plt.title('The Elbow Method')\n",
    "plt.xlabel('Number of clusters')\n",
    "plt.ylabel('WCSS')\n",
    "#plt.savefig('elbow.png')\n",
    "plt.show()"
   ]
  },
  {
   "cell_type": "markdown",
   "metadata": {},
   "source": [
    "https://dataverse.harvard.edu/dataset.xhtml?persistentId=doi:10.7910/DVN/0U9Z9F"
   ]
  },
  {
   "cell_type": "markdown",
   "metadata": {},
   "source": [
    "\n",
    "\n",
    "As more than one elbows have been generated, I will have to select right amount of clusters by trial and error. So, I will showcase the results of different amount of clusters to find out the right amount of clusters.\n"
   ]
  },
  {
   "cell_type": "code",
   "execution_count": 20,
   "metadata": {},
   "outputs": [
    {
     "name": "stdout",
     "output_type": "stream",
     "text": [
      "['despit', 'develop', 'diari', 'did', 'die', 'differ', 'direct', 'director', 'disabl', 'discuss', 'dismiss', 'disput', 'doctor', 'doe', 'dog', \"don't\", 'doneg', 'doubl', 'doubt', 'draw', 'dream', 'drink', 'drive', 'driver', 'drop', 'drug', 'dublin', 'dunn', 'dure', 'dutch', 'e', 'earli', 'earn', 'eas', 'east', 'ecb', 'econom', 'economi', 'edg', 'educ', 'effect', 'effort', 'eircom', 'elect', 'electr', 'emerg', 'employ', 'end', 'energi', 'england']\n"
     ]
    }
   ],
   "source": [
    "print(words[250:300])"
   ]
  },
  {
   "cell_type": "markdown",
   "metadata": {},
   "source": [
    "# 3 Clusters"
   ]
  },
  {
   "cell_type": "code",
   "execution_count": 21,
   "metadata": {},
   "outputs": [
    {
     "name": "stdout",
     "output_type": "stream",
     "text": [
      "0 : new, say, m, ireland, dublin, plan, year, man, deal, eu, bank, job, report, profit, hous, pay, set, firm, tax, fund, home, old, face, group, cut\n",
      "1 : man, kill, win, make, court, time, set, report, warn, die, claim, rise, home, talk, charg, face, attack, eu, case, death, day, bank, deal, cut, rule\n",
      "2 : irish, time, new, m, firm, eu, bank, say, life, water, win, year, market, open, anglo, london, award, team, uk, make, world, sale, set, lead, profit\n"
     ]
    }
   ],
   "source": [
    "kmeans = KMeans(n_clusters = 3, n_init = 20, n_jobs = 1) # n_init(number of iterations for clsutering) n_jobs(number of cpu cores to use)\n",
    "kmeans.fit(X3)\n",
    "# We look at 3 the clusters generated by k-means.\n",
    "common_words = kmeans.cluster_centers_.argsort()[:,-1:-26:-1]\n",
    "for num, centroid in enumerate(common_words):\n",
    "    print(str(num) + ' : ' + ', '.join(words[word] for word in centroid))"
   ]
  },
  {
   "cell_type": "markdown",
   "metadata": {},
   "source": [
    "# 5 Clusters"
   ]
  },
  {
   "cell_type": "code",
   "execution_count": 22,
   "metadata": {},
   "outputs": [
    {
     "name": "stdout",
     "output_type": "stream",
     "text": [
      "0 : new, man, ireland, dublin, plan, year, murder, charg, jail, die, kill, job, court, old, death, held, eu, arrest, hous, car, attack, set, face, york, bank\n",
      "1 : m, profit, invest, pay, fund, loss, firm, cost, rais, site, deal, sale, sell, plan, irish, year, dublin, worth, buy, offic, bank, make, centr, hous, tax\n",
      "2 : irish, time, new, eu, bank, firm, life, water, win, open, market, year, award, london, team, anglo, world, make, set, uk, lead, hope, sale, day, british\n",
      "3 : kill, win, make, time, court, set, report, warn, rise, claim, talk, home, eu, face, day, case, bank, attack, deal, die, death, cut, rule, end, seek\n",
      "4 : say, report, minist, eu, need, ireland, ahern, plan, irish, bank, chief, govern, deal, state, taoiseach, new, kenni, garda, group, expert, cut, kill, judg, iraq, talk\n"
     ]
    }
   ],
   "source": [
    "kmeans = KMeans(n_clusters = 5, n_init = 20, n_jobs = 1)\n",
    "kmeans.fit(X3)\n",
    "# We look at 5 the clusters generated by k-means.\n",
    "common_words = kmeans.cluster_centers_.argsort()[:,-1:-26:-1]\n",
    "for num, centroid in enumerate(common_words):\n",
    "    print(str(num) + ' : ' + ', '.join(words[word] for word in centroid))"
   ]
  },
  {
   "cell_type": "markdown",
   "metadata": {},
   "source": [
    "# 6 Clusters"
   ]
  },
  {
   "cell_type": "code",
   "execution_count": 23,
   "metadata": {},
   "outputs": [
    {
     "name": "stdout",
     "output_type": "stream",
     "text": [
      "0 : irish, man, murder, charg, die, jail, kill, court, year, held, time, death, dublin, arrest, assault, attack, stab, crash, m, life, shot, rape, guilti, car, shoot\n",
      "1 : say, report, minist, need, eu, ahern, irish, plan, govern, deal, state, chief, bank, taoiseach, garda, new, group, cut, kenni, expert, kill, year, judg, iraq, talk\n",
      "2 : ireland, northern, bank, say, eu, new, world, win, final, squad, face, cup, best, year, brexit, m, tax, make, need, rate, set, return, team, place, job\n",
      "3 : new, york, plan, year, irish, deal, job, dublin, set, old, open, rule, home, law, face, appoint, chief, m, creat, car, eu, look, sign, unveil, servic\n",
      "4 : report, seek, m, profit, rise, garda, loss, help, irish, abus, group, eu, bank, gardai, inquiri, case, increas, death, talk, fund, publish, court, dublin, state, sale\n",
      "5 : m, dublin, plan, year, kill, win, make, time, court, set, warn, home, rise, claim, eu, face, talk, day, deal, bank, case, attack, cut, hous, die\n"
     ]
    }
   ],
   "source": [
    "kmeans = KMeans(n_clusters = 6, n_init = 20, n_jobs = 1)\n",
    "kmeans.fit(X3)\n",
    "# We look at 6 the clusters generated by k-means.\n",
    "common_words = kmeans.cluster_centers_.argsort()[:,-1:-26:-1]\n",
    "for num, centroid in enumerate(common_words):\n",
    "    print(str(num) + ' : ' + ', '.join(words[word] for word in centroid))"
   ]
  },
  {
   "cell_type": "markdown",
   "metadata": {},
   "source": [
    "# 8 Clusters"
   ]
  },
  {
   "cell_type": "code",
   "execution_count": 24,
   "metadata": {},
   "outputs": [
    {
     "name": "stdout",
     "output_type": "stream",
     "text": [
      "0 : kill, crash, bomb, man, attack, car, soldier, iraq, suicid, road, isra, woman, blast, peopl, pakistan, rebel, palestinian, afghan, accid, polic, bus, troop, say, iraqi, explos\n",
      "1 : irish, time, new, m, firm, eu, bank, say, life, water, win, market, year, anglo, award, london, team, uk, make, sale, world, profit, set, lead, rise\n",
      "2 : say, m, man, dublin, plan, year, make, win, court, time, report, set, rise, eu, die, claim, warn, face, charg, bank, talk, case, death, deal, cut\n",
      "3 : end, strike, year, talk, action, late, day, air, worker, say, staff, union, hope, deal, run, season, plan, vote, disput, bus, dublin, come, week, note, threat\n",
      "4 : home, nurs, famili, new, m, return, bring, dublin, holiday, care, come, irish, man, plan, make, attack, sale, woman, help, ireland, say, hous, mother, leav, near\n",
      "5 : open, new, irish, centr, dublin, win, lead, day, store, m, ireland, offic, talk, british, french, trial, option, final, cork, mcilroy, inquiri, round, world, market, season\n",
      "6 : new, york, plan, year, deal, job, dublin, set, old, rule, law, chief, face, appoint, say, m, creat, eu, car, sign, unveil, look, servic, govern, announc\n",
      "7 : ireland, northern, bank, say, eu, new, world, win, squad, final, face, cup, best, year, brexit, m, tax, rate, make, need, set, place, team, job, return\n"
     ]
    }
   ],
   "source": [
    "kmeans = KMeans(n_clusters = 8, n_init = 20, n_jobs = 1)\n",
    "kmeans.fit(X3)\n",
    "# Finally, we look at 8 the clusters generated by k-means.\n",
    "common_words = kmeans.cluster_centers_.argsort()[:,-1:-26:-1]\n",
    "for num, centroid in enumerate(common_words):\n",
    "    print(str(num) + ' : ' + ', '.join(words[word] for word in centroid))"
   ]
  }
 ],
 "metadata": {
  "kernelspec": {
   "display_name": "Python 3",
   "language": "python",
   "name": "python3"
  },
  "language_info": {
   "codemirror_mode": {
    "name": "ipython",
    "version": 3
   },
   "file_extension": ".py",
   "mimetype": "text/x-python",
   "name": "python",
   "nbconvert_exporter": "python",
   "pygments_lexer": "ipython3",
   "version": "3.7.3"
  }
 },
 "nbformat": 4,
 "nbformat_minor": 4
}
